{
 "cells": [
  {
   "cell_type": "markdown",
   "metadata": {},
   "source": [
    "# 逻辑回归"
   ]
  },
  {
   "cell_type": "markdown",
   "metadata": {},
   "source": [
    "## sigmoid函数\n",
    "$$\n",
    "sigmoid(z)=\\frac{1}{1+e^{-z}}\n",
    "$$"
   ]
  },
  {
   "cell_type": "code",
   "execution_count": 3,
   "metadata": {},
   "outputs": [],
   "source": [
    "def sigmoid(z):\n",
    "    return 1/(1+np.exp(-z))"
   ]
  },
  {
   "cell_type": "markdown",
   "metadata": {},
   "source": [
    "## 假设函数\n",
    "$$\n",
    "h(x)=\\Theta_0+\\Theta_1x_1+\\Theta_2x_2\n",
    "$$"
   ]
  },
  {
   "cell_type": "code",
   "execution_count": 4,
   "metadata": {},
   "outputs": [],
   "source": [
    "def predict(theta,X):\n",
    "    # 预测列表（将预测的值转换为只有0和1的列表，方便最终的绘图）\n",
    "    h = sigmoid(X * theta.T)\n",
    "    return [1 if x>=0.5 else 0 for x in h]"
   ]
  },
  {
   "cell_type": "markdown",
   "metadata": {},
   "source": [
    "## 损失函数\n",
    "利用计算公式带入\n",
    "$$\n",
    "J(\\Theta)=\\frac{1}{m}\\sum_{i=1}^{m}\\frac{1}{2}(h_\\Theta(x^{(i)})-y^{(i)})^2\n",
    "$$\n",
    "经过处理以后的损失函数\n",
    "$$\n",
    "J(\\Theta)=-\\frac{1}{m}[\\sum_{i=1}^{m}y^{(i)}log h_\\Theta(x^{(i)})+(1-y^{(i)})log(1-h_\\Theta(x^{(i)}))]\n",
    "$$\n",
    "https://blog.csdn.net/code_caq/article/details/69803476"
   ]
  },
  {
   "cell_type": "code",
   "execution_count": 5,
   "metadata": {},
   "outputs": [],
   "source": [
    "def costFunction(theta,X,y):\n",
    "    # 将数据均转换为矩阵\n",
    "    theta = np.matrix(theta)\n",
    "    X = np.matrix(X)\n",
    "    y = np.matrix(y)\n",
    "    \n",
    "    # 带入公式求解\n",
    "    part1 = np.multiply(-y,np.log(sigmoid(X*theta.T)))\n",
    "    part2 = np.multiply(1-y,np.log(1-sigmoid(X*theta.T)))\n",
    "    return -1*np.sum(part1+part2)/len(X)\n",
    "\n",
    "def costf(theta,*args):\n",
    "    X_train,y_train = args\n",
    "    m,n = X_train.shape\n",
    "    J = 0\n",
    "    theta = theta.reshape((n,1))\n",
    "    h = sigmoid(np.dot(X_train,theta))\n",
    "    J = -1 * np.sum(y_train * np.log(h) + (1 - y_train) * np.log((1 - h))) / m     \n",
    "    return J"
   ]
  },
  {
   "cell_type": "markdown",
   "metadata": {},
   "source": [
    "## 梯度下降函数\n",
    "使用函数：\n",
    "$$\n",
    "\\Theta_j = \\Theta_j - \\alpha\\frac{\\delta}{\\delta\\Theta_j}J(\\Theta),(j=0,..,n)\n",
    "$$\n",
    "推导得到：\n",
    "$$\n",
    "\\frac{\\delta}{\\delta\\Theta_j}=-\\frac{1}{m}\\sum_{m=1}^{1}(h_\\Theta(X^{(i)})-y^{(i)})x^{(i)}_j\n",
    "$$\n",
    "也就是\n",
    "$$\n",
    "\\Theta_j = \\Theta_j + \\frac{\\alpha}{m}\\sum_{m=1}^{1}(h_\\Theta(X^{(i)})-y^{(i)})x^{(i)}_j\n",
    "$$\n"
   ]
  },
  {
   "cell_type": "code",
   "execution_count": 6,
   "metadata": {},
   "outputs": [],
   "source": [
    "def gradientDescent(theta,X,y):\n",
    "    # 转换数据为矩阵\n",
    "    theta = np.matrix(theta)\n",
    "    X = np.matrix(X)\n",
    "    y = np.matrix(y)\n",
    "    \n",
    "    # 参数数\n",
    "    parameters = int(theta.ravel().shape[1])\n",
    "    # 初始化梯度矩阵\n",
    "    grad = np.zeros(parameters)\n",
    "    # 损失值\n",
    "    error = sigmoid(X* theta.T) - y\n",
    "    \n",
    "    for i in range(parameters):\n",
    "        temp = np.multiply(error,X[:,i])\n",
    "        grad[i] = np.sum(temp) / len(X)\n",
    "    return grad\n",
    "\n",
    "def gradf(theta,*args):\n",
    "    X_train,y_train = args\n",
    "    m,n = X_train.shape\n",
    "    J = 0\n",
    "    theta = theta.reshape((n,1))\n",
    "    # 矩阵点乘\n",
    "    h = sigmoid(np.dot(X_train,theta))\n",
    "    # 初始化梯度值\n",
    "    grad = np.zeros((X_train.shape[1],1))\n",
    "    # 计算（矩阵运算，非循环运算）\n",
    "    grad = X_train.T.dot((h-y_train)) / m\n",
    "    g = grad.ravel()\n",
    "    return g"
   ]
  },
  {
   "cell_type": "markdown",
   "metadata": {},
   "source": [
    "## 主要方法\n",
    "1. 导入数据\n",
    "2. 初始化参数\n",
    "3. 设置并带入迭代次数和学习率\n",
    "4. 求$\\Theta$"
   ]
  },
  {
   "cell_type": "markdown",
   "metadata": {},
   "source": [
    "## 导入数据集"
   ]
  },
  {
   "cell_type": "code",
   "execution_count": 7,
   "metadata": {},
   "outputs": [],
   "source": [
    "def loadDataSet():\n",
    "    iris = load_iris()\n",
    "    feathers = iris.data\n",
    "    f = feathers[:,:2]\n",
    "    labels = iris.target\n",
    "    data = np.insert(f,len(f[0]),labels,axis=1)\n",
    "    return data[np.where(data[:,-1]!=2)]"
   ]
  },
  {
   "cell_type": "markdown",
   "metadata": {},
   "source": [
    "## 绘图"
   ]
  },
  {
   "cell_type": "code",
   "execution_count": 8,
   "metadata": {},
   "outputs": [],
   "source": [
    "def plotData(data):\n",
    "    class1 = data[np.where(data[:,-1]==0)]\n",
    "    class2 = data[np.where(data[:,-1]==1)]\n",
    "    fg,ax = plt.subplots(figsize=(12,8))\n",
    "    ax.scatter(class1[:,0],class1[:,1],s=50,c='black',marker='x',label='class1')\n",
    "    ax.scatter(class2[:,0],class2[:,1],s=50,c='green',marker='+',label='class2')\n",
    "    ax.legend()\n",
    "    ax.set_xlabel('Class 1')\n",
    "    ax.set_ylabel('Class 2')\n",
    "    plt.show()\n",
    "    \n",
    "def plotDescisionBoundary(data,theta,X):\n",
    "    class1 = data[np.where(data[:,-1]==0)]\n",
    "    class2 = data[np.where(data[:,-1]==1)]\n",
    "    fg,ax = plt.subplots(figsize=(12,8))\n",
    "    ax.scatter(class1[:,0],class1[:,1],s=50,c='black',marker='x',label='class1')\n",
    "    ax.scatter(class2[:,0],class2[:,1],s=50,c='green',marker='+',label='class2')\n",
    "    ax.legend()\n",
    "    ax.set_xlabel('Class 1')\n",
    "    ax.set_ylabel('Class 2')\n",
    "    \n",
    "    # 绘制直线：注意取值应该是对应的那个！！！\n",
    "    min_X = min(X[:,1])\n",
    "    max_X = max(X[:,1])\n",
    "    x1 = np.arange(min_X,max_X,0.5)\n",
    "    x2 = (-theta[0] - theta[1] * x1) / theta[2]\n",
    "    x2 = np.array(x2.tolist())\n",
    "    plt.plot(x1,x2,color=\"black\")\n",
    "    plt.legend(loc='upper left')\n",
    "    plt.show()"
   ]
  },
  {
   "cell_type": "markdown",
   "metadata": {},
   "source": [
    "## 梯度下降函数"
   ]
  },
  {
   "cell_type": "code",
   "execution_count": 9,
   "metadata": {},
   "outputs": [],
   "source": [
    "def stocGradAscent(X,y):\n",
    "    m,n = X.shape\n",
    "    alpha = 0.01\n",
    "    weights = np.ones(n)\n",
    "    for i in range(m):\n",
    "        h = sigmoid(sum(X[i]*weights))\n",
    "        error = y[i] - h\n",
    "        weights = weights + alpha * error * X[i]\n",
    "    return weights\n",
    "\n",
    "def gradAscent(X,y):\n",
    "    X = np.mat(X)\n",
    "    y = np.mat(y).T\n",
    "    \n",
    "    m,n = np.shape(X)\n",
    "    alpha = 0.001\n",
    "    iterations = 1000\n",
    "    weights = np.ones((n,1))\n",
    "    for k in range(iterations):\n",
    "        h = sigmoid(X*weights)\n",
    "        error = (y-h)\n",
    "        weights = weights + alpha * X.T*error\n",
    "    return weights"
   ]
  },
  {
   "cell_type": "markdown",
   "metadata": {},
   "source": [
    "## Main"
   ]
  },
  {
   "cell_type": "code",
   "execution_count": 10,
   "metadata": {},
   "outputs": [
    {
     "data": {
      "image/png": "[encoded data removed]",
      "text/plain": [
       "<Figure size 864x576 with 1 Axes>"
      ]
     },
     "metadata": {
      "needs_background": "light"
     },
     "output_type": "display_data"
    }
   ],
   "source": [
    "\"\"\"part1 可视化数据集\"\"\"\n",
    "import pandas as pd\n",
    "import matplotlib.pyplot as plt\n",
    "import numpy as np\n",
    "from scipy import optimize\n",
    "import scipy.optimize as opt\n",
    "import seaborn as sns\n",
    "from sklearn import linear_model\n",
    "from sklearn.metrics import accuracy_score\n",
    "from sklearn.datasets import load_iris\n",
    "%matplotlib inline\n",
    "\n",
    "data = loadDataSet()\n",
    "\n",
    "# plotData(data)\n",
    "\n",
    "\"\"\"part2 逻辑回归\"\"\"\n",
    "cols = data.shape[1]\n",
    "X = data[:,:cols-1]\n",
    "y = data[:,-1]\n",
    "X = np.insert(X,0,values=[1],axis=1)\n",
    "\n",
    "# 初始化参数\n",
    "theta = np.zeros(3)\n",
    "\"\"\"part3 训练集预测验证\"\"\"\n",
    "theta = gradAscent(X,y)\n",
    "\n",
    "\"\"\"part4 决策边界\"\"\"\n",
    "theta = theta.reshape(1,3).tolist()[0]\n",
    "plotDescisionBoundary(data,theta,X)"
   ]
  },
  {
   "cell_type": "markdown",
   "metadata": {},
   "source": [
    "## 10k交叉验证"
   ]
  },
  {
   "cell_type": "code",
   "execution_count": 11,
   "metadata": {},
   "outputs": [],
   "source": [
    "def predict(X,theta):\n",
    "    h = sigmoid(X * theta)\n",
    "    return [1 if x >= 0.5 else 0 for x in h]"
   ]
  },
  {
   "cell_type": "code",
   "execution_count": 12,
   "metadata": {},
   "outputs": [
    {
     "name": "stdout",
     "output_type": "stream",
     "text": [
      "accuracy = 99.0%\n"
     ]
    }
   ],
   "source": [
    "from sklearn.model_selection import KFold\n",
    "from sklearn.datasets import load_iris\n",
    "from sklearn.ensemble import RandomForestClassifier\n",
    "import numpy as np\n",
    "\n",
    "\"\"\"part1 加载数据\"\"\"\n",
    "# 创建分类器\n",
    "KF = KFold(n_splits=10,shuffle=True,random_state=100)\n",
    "accuracy_sum = 0\n",
    "for itrain,itest in KF.split(X):\n",
    "    # itrain--训练集索引；itest--测试集索引\n",
    "    X_train = X[itrain]\n",
    "    y_train = y[itrain]\n",
    "    \n",
    "    X_test = X[itest]\n",
    "    y_test = y[itest]\n",
    "    # 训练集训练参数\n",
    "    theta = np.zeros(3)# 初始化参数\n",
    "    theta = gradAscent(X_train,y_train)\n",
    "    \n",
    "    # 测试集用来检验参数\n",
    "    # 获得经过参数整理后的预测值\n",
    "    p = np.array(predict(X_test,theta))\n",
    "    # 预测值与y进行对比\n",
    "    correct = [1 if ((a == 1 and b == 1) or (a == 0 and b == 0)) else 0 for (a, b) in zip(p, y_test)]\n",
    "    accuracy = (sum(map(int, correct)) / len(correct))*100\n",
    "    accuracy_sum += accuracy\n",
    "print('accuracy = {0}%'.format(accuracy_sum/10.0))"
   ]
  }
 ],
 "metadata": {
  "hide_input": false,
  "kernelspec": {
   "display_name": "Python 3",
   "language": "python",
   "name": "python3"
  },
  "language_info": {
   "codemirror_mode": {
    "name": "ipython",
    "version": 3
   },
   "file_extension": ".py",
   "mimetype": "text/x-python",
   "name": "python",
   "nbconvert_exporter": "python",
   "pygments_lexer": "ipython3",
   "version": "3.8.5"
  },
  "toc": {
   "base_numbering": 1,
   "nav_menu": {},
   "number_sections": true,
   "sideBar": true,
   "skip_h1_title": false,
   "title_cell": "Table of Contents",
   "title_sidebar": "Contents",
   "toc_cell": false,
   "toc_position": {},
   "toc_section_display": true,
   "toc_window_display": false
  },
  "varInspector": {
   "cols": {
    "lenName": 16,
    "lenType": 16,
    "lenVar": 40
   },
   "kernels_config": {
    "python": {
     "delete_cmd_postfix": "",
     "delete_cmd_prefix": "del ",
     "library": "var_list.py",
     "varRefreshCmd": "print(var_dic_list())"
    },
    "r": {
     "delete_cmd_postfix": ") ",
     "delete_cmd_prefix": "rm(",
     "library": "var_list.r",
     "varRefreshCmd": "cat(var_dic_list()) "
    }
   },
   "types_to_exclude": [
    "module",
    "function",
    "builtin_function_or_method",
    "instance",
    "_Feature"
   ],
   "window_display": false
  }
 },
 "nbformat": 4,
 "nbformat_minor": 4
}
