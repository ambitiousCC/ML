{
 "cells": [
  {
   "cell_type": "code",
   "execution_count": 8,
   "metadata": {},
   "outputs": [],
   "source": [
    "from math import log\n",
    "import numpy as np\n",
    "import operator\n",
    "import csv"
   ]
  },
  {
   "cell_type": "markdown",
   "metadata": {},
   "source": [
    "## 加载数据集"
   ]
  },
  {
   "cell_type": "code",
   "execution_count": 9,
   "metadata": {},
   "outputs": [],
   "source": [
    "def loaddata ():\n",
    "    dataSet = [[0, 0,0,0,0,0, 'yes'],\n",
    "               [1, 0,1,0,0,0,'yes'],\n",
    "               [1, 0,0,0,0,0,'yes'],\n",
    "               [0, 0,1,0,0,0,'yes'],\n",
    "               [2, 0,0,0,0,0,'yes'],\n",
    "               [0, 1,0,0,1,1,'yes'],\n",
    "               [1, 1,0,1,1,1,'yes'],\n",
    "               [1, 1,0,0,1,0, 'yes'],\n",
    "               [1, 1,1,1,1,0,'no'],\n",
    "               [0, 2,2,0,2,1,'no'],\n",
    "               [2, 2,2,2,2,0,'no'],\n",
    "               [2, 0,0,2,2,1,'no'],\n",
    "               [0, 1,0,1,0,0, 'no'],\n",
    "               [2, 1,1,1,0,0,'no'],\n",
    "               [1, 1,0,0,1,1,'no'],\n",
    "               [2, 0,0,2,2,0,'no'],\n",
    "               [0, 0,1,1,1,0,'no']]\n",
    "    feature_name = ['a1','a2','a3','a4','a5','a6']\n",
    "    return dataSet, feature_name\n",
    "#方式2\n",
    "def loaddata_new():\n",
    "    # 定义文件路径\n",
    "    csv_path = 'watermelon2.csv'\n",
    "    with open(csv_path,'r',encoding='utf-8-sig')as fp:\n",
    "        dataSet = [i for i in csv.reader(fp)]  # csv.reader 读取到的数据是list类型\n",
    "    feature_name = ['a1','a2','a3','a4','a5','a6']\n",
    "    return dataSet, feature_name"
   ]
  },
  {
   "cell_type": "markdown",
   "metadata": {},
   "source": [
    "## 计算数据集的熵\n",
    "$$\n",
    "Ent(D)=-\\sum_{k=1}^{|y|} p_k log_2(p_k)\n",
    "$$"
   ]
  },
  {
   "cell_type": "code",
   "execution_count": 10,
   "metadata": {},
   "outputs": [],
   "source": [
    "def entropy(dataSet):\n",
    "    #数据集条数\n",
    "    m = len(dataSet)\n",
    "    #保存所有的类别及属于该类别的样本数\n",
    "    labelCounts = {}\n",
    "    for featVec in dataSet:\n",
    "        currentLabel = featVec[-1]\n",
    "        if currentLabel not in labelCounts.keys(): \n",
    "            labelCounts[currentLabel] = 0\n",
    "        labelCounts[currentLabel] += 1\n",
    "    #保存熵值\n",
    "    e = 0.0 \n",
    "    #补充计算信息熵的代码\n",
    "    for key in labelCounts:\n",
    "        p = float(labelCounts[key])/m\n",
    "        e -= p*log(p,2)\n",
    "    return e"
   ]
  },
  {
   "cell_type": "code",
   "execution_count": 11,
   "metadata": {},
   "outputs": [],
   "source": [
    "def splitDataSet(dataSet, axis, value):\n",
    "    #补充按给定特征和特征值划分好的数据集的abs代码\n",
    "    # axis对应的是特征的索引;\n",
    "    retDataSet = []\n",
    "    #遍历数据集\n",
    "    for featVec in dataSet:\n",
    "        # 符合要求就把他加到创建的列表中\n",
    "        if(featVec[axis]==value):\n",
    "            rFeatVec = featVec[:axis]\n",
    "            # axis所指向的那一列被抽掉，剩下的：\n",
    "            rFeatVec.extend(featVec[axis+1:])\n",
    "            retDataSet.append(rFeatVec)\n",
    "    return retDataSet"
   ]
  },
  {
   "cell_type": "code",
   "execution_count": 12,
   "metadata": {},
   "outputs": [],
   "source": [
    "def chooseBestFeature(dataSet):\n",
    "    n = len(dataSet[0]) - 1\n",
    "    #计数整个数据集的熵\n",
    "    baseEntropy = entropy(dataSet)\n",
    "    #初始化值：最好的信息增益和特征\n",
    "    bestInfoGain = 0.0; bestFeature = -1\n",
    "    #遍历每个特征\n",
    "    for i in range(n):  \n",
    "        #获取当前特征i的所有可能取值\n",
    "        featList = [example[i] for example in dataSet]\n",
    "        uniqueVals = set(featList) \n",
    "        newEntropy = 0.0\n",
    "        #遍历特征i的每一个可能的取值\n",
    "        for value in uniqueVals:\n",
    "            #按特征i的value值进行数据集的划分\n",
    "            subDataSet = splitDataSet(dataSet, i, value)\n",
    "            #补充计算条件熵的代码\n",
    "            # pk\n",
    "            p = len(subDataSet)/float(len(dataSet))\n",
    "            newEntropy += p * entropy(subDataSet)\n",
    "        #计算信息增益\n",
    "        infoGain = baseEntropy - newEntropy  \n",
    "        #保存当前最大的信息增益及对应的特征\n",
    "        if (infoGain > bestInfoGain):\n",
    "            bestInfoGain = infoGain\n",
    "            bestFeature = i\n",
    "    return bestFeature"
   ]
  },
  {
   "cell_type": "code",
   "execution_count": 13,
   "metadata": {},
   "outputs": [],
   "source": [
    "def classVote(classList):\n",
    "    #定义字典，保存每个标签对应的个数 \n",
    "    classCount={}\n",
    "    for vote in classList:\n",
    "        if vote not in classCount.keys(): \n",
    "            classCount[vote] = 0\n",
    "        classCount[vote] += 1\n",
    "     #排序\n",
    "    sortedClassCount = sorted(classCount.items(), key=operator.itemgetter(1), reverse=True)\n",
    "    return sortedClassCount[0][0]"
   ]
  },
  {
   "cell_type": "code",
   "execution_count": 14,
   "metadata": {},
   "outputs": [],
   "source": [
    "def trainTree(dataSet,feature_name):\n",
    "    classList = [example[-1] for example in dataSet]\n",
    "    #所有类别都一致\n",
    "    if classList.count(classList[0]) == len(classList): \n",
    "        return classList[0] \n",
    "    #数据集中没有特征时，返回特征出现最多的\n",
    "    if len(dataSet[0]) == 1:\n",
    "        return classVote(classList)\n",
    "    #选择最优划分特征\n",
    "    bestFeat = chooseBestFeature(dataSet)\n",
    "    bestFeatName = feature_name[bestFeat]\n",
    "    myTree = {bestFeatName:{}}\n",
    "    featValues = [example[bestFeat] for example in dataSet]\n",
    "    uniqueVals = set(featValues)\n",
    "    #遍历uniqueVals中的每个值，生成相应的分支\n",
    "    for value in uniqueVals:\n",
    "        sub_feature_name = feature_name[:]\n",
    "        # 生成在dataSet中bestFeat取值为value的子集；\n",
    "        sub_dataset = splitDataSet(dataSet,bestFeat,value)#补充代码；\n",
    "        # 根据得到的子集，生成决策树\n",
    "        myTree[bestFeatName][value] = trainTree(sub_dataset,sub_feature_name)#补充代码；\n",
    "    return myTree"
   ]
  },
  {
   "cell_type": "code",
   "execution_count": 15,
   "metadata": {},
   "outputs": [
    {
     "name": "stdout",
     "output_type": "stream",
     "text": [
      "{'a4': {0: {'a2': {0: 'yes', 1: {'a1': {0: 'yes', 1: {'a3': {0: 'yes', 1: 'no'}}}}, 2: 'no'}}, 1: {'a5': {0: 'no', 1: 'yes'}}, 2: 'no'}}\n"
     ]
    }
   ],
   "source": [
    "myDat,feature_name = loaddata()\n",
    "myTree = trainTree(myDat,feature_name)\n",
    "print(myTree)"
   ]
  },
  {
   "cell_type": "markdown",
   "metadata": {},
   "source": [
    "## 绘制树形图\n",
    "由于结果实在是不好观察，必须要借助一些工具可视化"
   ]
  },
  {
   "cell_type": "code",
   "execution_count": 16,
   "metadata": {},
   "outputs": [],
   "source": [
    "import matplotlib.pyplot as plt"
   ]
  },
  {
   "cell_type": "code",
   "execution_count": 17,
   "metadata": {},
   "outputs": [],
   "source": [
    "# 定义文本框和箭头格式\n",
    "decisionNode = dict(boxstyle=\"sawtooth\",fc=\"0.8\")\n",
    "leafNode = dict(boxstyle=\"round4\",fc=\"0.8\")\n",
    "arrow_args = dict(arrowstyle=\"<-\")"
   ]
  },
  {
   "cell_type": "code",
   "execution_count": 18,
   "metadata": {},
   "outputs": [],
   "source": [
    "def plotNode(nodeText,centerPt,parentPt,nodeType):\n",
    "    createPlot.ax1.annotate(nodeText,xy=parentPt,xycoords='axes fraction',\n",
    "                           xytext=centerPt,\n",
    "                           textcoords='axes fraction',\n",
    "                           va=\"center\",\n",
    "                           ha=\"center\",\n",
    "                           bbox=nodeType,\n",
    "                           arrowprops=arrow_args)   "
   ]
  },
  {
   "cell_type": "code",
   "execution_count": 19,
   "metadata": {},
   "outputs": [],
   "source": [
    "def createPlot():\n",
    "    fig = plt.figure(1,facecolor='white')\n",
    "    fig.clf()\n",
    "    createPlot.ax1 = plt.subplot(111,frameon=False)\n",
    "    plotNode('a decision node',(0.5,0.1),(0.1,0.5),decisionNode)\n",
    "    plotNode('a leaf node',(0.8,0.1),(0.3,0.8),leafNode)\n",
    "    plt.show()"
   ]
  },
  {
   "cell_type": "code",
   "execution_count": 20,
   "metadata": {},
   "outputs": [
    {
     "data": {
      "image/png": "[encoded data removed]",
      "text/plain": [
       "<Figure size 432x288 with 1 Axes>"
      ]
     },
     "metadata": {},
     "output_type": "display_data"
    }
   ],
   "source": [
    "createPlot()"
   ]
  },
  {
   "cell_type": "markdown",
   "metadata": {},
   "source": [
    "## 构建注解树\n",
    "你需要知道的条件：\n",
    "1. 叶子节点的数目（需要放置所有叶子节点确定x轴长度）\n",
    "2. 树的层数（确定y轴的高度）"
   ]
  },
  {
   "cell_type": "code",
   "execution_count": 40,
   "metadata": {},
   "outputs": [],
   "source": [
    "def getNumLeafs(myTree):\n",
    "    numLeafs = 0\n",
    "    firstStr = list(myTree.keys())[0]\n",
    "    secondDict = myTree[firstStr]\n",
    "    for key in secondDict.keys():\n",
    "        if(type(secondDict[key]).__name__=='dict'):\n",
    "            numLeafs += getNumLeafs(secondDict[key])\n",
    "        else:\n",
    "            numLeafs += 1\n",
    "    return numLeafs"
   ]
  },
  {
   "cell_type": "code",
   "execution_count": 47,
   "metadata": {},
   "outputs": [],
   "source": [
    "def getTreeDepth(myTree):\n",
    "    maxDepth = 0\n",
    "    firstStr = list(myTree.keys())[0]\n",
    "    secondDict = myTree[firstStr]\n",
    "    for key in secondDict.keys():\n",
    "        if (type(secondDict[key]).__name__=='dict'):\n",
    "            thisDepth = 1 + getTreeDepth(secondDict[key])\n",
    "        else:\n",
    "            thisDepth = 1\n",
    "        if (thisDepth>maxDepth):\n",
    "            maxDepth = thisDepth\n",
    "    return maxDepth"
   ]
  },
  {
   "cell_type": "code",
   "execution_count": 48,
   "metadata": {},
   "outputs": [
    {
     "data": {
      "text/plain": [
       "4"
      ]
     },
     "execution_count": 48,
     "metadata": {},
     "output_type": "execute_result"
    }
   ],
   "source": [
    "getNumLeafs(myTree)\n",
    "getTreeDepth(myTree)"
   ]
  },
  {
   "cell_type": "code",
   "execution_count": 43,
   "metadata": {},
   "outputs": [],
   "source": [
    "def retrieveTree(i):\n",
    "    listOfTrees = [{'no surfacing':{0:'no',1:{'flippers':{0:'no',1:'yes'}}}},\n",
    "                  {'no surfacing':{0:'no',1:{'flippers':{0:{'head':{0:'no',1:'yes'}}},1:'no'}}}]     \n",
    "    return listOfTrees[i]"
   ]
  },
  {
   "cell_type": "code",
   "execution_count": 98,
   "metadata": {},
   "outputs": [
    {
     "data": {
      "text/plain": [
       "dict"
      ]
     },
     "execution_count": 98,
     "metadata": {},
     "output_type": "execute_result"
    }
   ],
   "source": [
    "mytree = retrieveTree(0)\n",
    "type(mytree)"
   ]
  },
  {
   "cell_type": "code",
   "execution_count": 99,
   "metadata": {},
   "outputs": [
    {
     "data": {
      "text/plain": [
       "3"
      ]
     },
     "execution_count": 99,
     "metadata": {},
     "output_type": "execute_result"
    }
   ],
   "source": [
    "getNumLeafs(retrieveTree(0))"
   ]
  },
  {
   "cell_type": "code",
   "execution_count": 129,
   "metadata": {},
   "outputs": [],
   "source": [
    "def plotNode(nodeText,centerPt,parentPt,nodeType):\n",
    "    createPlot.ax1.annotate(nodeText,xy=parentPt,xycoords='axes fraction',\n",
    "                           xytext=centerPt,\n",
    "                           textcoords='axes fraction',\n",
    "                           va=\"center\",\n",
    "                           ha=\"center\",\n",
    "                           bbox=nodeType,\n",
    "                           arrowprops=arrow_args)   "
   ]
  },
  {
   "cell_type": "code",
   "execution_count": 130,
   "metadata": {},
   "outputs": [],
   "source": [
    "def plotMidText(cntrPt,parentPt,txtString):\n",
    "    # 父子节点填充文本信息\n",
    "    xMid = (parentPt[0]-cntrPt[0])/2.0 + cntrPt[0]\n",
    "#     print(type(parentPt[1]))\n",
    "    print(cntrPt[1])\n",
    "    yMid = (parentPt[1]-cntrPt[1])/2.0 + cntrPt[1]\n",
    "    createPlot.ax1.text(xMid,yMid,txtString)"
   ]
  },
  {
   "cell_type": "code",
   "execution_count": 137,
   "metadata": {},
   "outputs": [],
   "source": [
    "def plotTree(myTree,parentPt,nodeTxt):\n",
    "    numLeafs = getNumLeafs(myTree)\n",
    "    depth = getTreeDepth(myTree)\n",
    "    firstStr = list(myTree.keys())[0]\n",
    "    cntrPt = (plotTree.xOff + (1.0 + float(numLeafs))/\n",
    "              2.0/plotTree.totalW,plotTree.yOff)      \n",
    "    \n",
    "    if (type(cntrPt[1]).__name__=='dict'):\n",
    "        print(plotTree.xOff)\n",
    "        print(plotTree.yOff)\n",
    "    elif (type(cntrPt[0]).__name__=='dict'):\n",
    "        print(plotTree.xOff)\n",
    "        print(plotTree.yOff)\n",
    "    plotMidText(cntrPt,parentPt,nodeTxt)\n",
    "    plotNode(firstStr,cntrPt,parentPt,decisionNode)\n",
    "    secondDict = myTree[firstStr]\n",
    "    \n",
    "    plotTree.yOff -= - 1.0/plotTree.totalD\n",
    "    for key in secondDict.keys():\n",
    "        if type(secondDict[key]).__name__ =='dict':\n",
    "            plotTree(secondDict[key],cntrPt,str(key))\n",
    "        else:\n",
    "            plotTree.xOff = plotTree.xOff + 1.0/plotTree.totalW\n",
    "            plotNode(secondDict[key],(plotTree.xOff,plotTree.yOff),\n",
    "                    cntrPt,leafNode)\n",
    "            plotMidText((plotTree.xOff,plotTree.yOff),cntrPt,str(key))\n",
    "    plotTree.yOff = plotTree.yOff + 1.0/plotTree.totalD"
   ]
  },
  {
   "cell_type": "code",
   "execution_count": 138,
   "metadata": {},
   "outputs": [],
   "source": [
    "def createPlot(inTree):\n",
    "    fig = plt.figure(1,facecolor='white')\n",
    "    fig.clf()\n",
    "    axprops = dict(xticks=[],yticks=[])\n",
    "    createPlot.ax1 = plt.subplot(111,frameon=False,**axprops)\n",
    "    plotTree.totalW = float(getNumLeafs(inTree))\n",
    "    plotTree.totalD = float(getTreeDepth(inTree))\n",
    "    plotTree.xOff = -0.5/plotTree.totalW\n",
    "    plotTree.yOff = 1.0\n",
    "    plotTree(inTree,(0.5,1.0),'')\n",
    "    plt.show()"
   ]
  },
  {
   "cell_type": "code",
   "execution_count": 140,
   "metadata": {},
   "outputs": [
    {
     "name": "stdout",
     "output_type": "stream",
     "text": [
      "1.0\n",
      "1.25\n",
      "1.5\n",
      "1.5\n",
      "1.75\n",
      "1.75\n",
      "2.0\n",
      "2.0\n",
      "2.5\n",
      "2.75\n",
      "3.0\n",
      "3.0\n",
      "3.25\n"
     ]
    },
    {
     "data": {
      "image/png": "[encoded data removed]",
      "text/plain": [
       "<Figure size 432x288 with 1 Axes>"
      ]
     },
     "metadata": {},
     "output_type": "display_data"
    }
   ],
   "source": [
    "createPlot(myTree)"
   ]
  },
  {
   "cell_type": "code",
   "execution_count": null,
   "metadata": {},
   "outputs": [],
   "source": []
  }
 ],
 "metadata": {
  "hide_input": false,
  "kernelspec": {
   "display_name": "Python 3",
   "language": "python",
   "name": "python3"
  },
  "language_info": {
   "codemirror_mode": {
    "name": "ipython",
    "version": 3
   },
   "file_extension": ".py",
   "mimetype": "text/x-python",
   "name": "python",
   "nbconvert_exporter": "python",
   "pygments_lexer": "ipython3",
   "version": "3.7.4"
  },
  "toc": {
   "base_numbering": 1,
   "nav_menu": {},
   "number_sections": true,
   "sideBar": true,
   "skip_h1_title": false,
   "title_cell": "Table of Contents",
   "title_sidebar": "Contents",
   "toc_cell": false,
   "toc_position": {},
   "toc_section_display": true,
   "toc_window_display": false
  },
  "varInspector": {
   "cols": {
    "lenName": 16,
    "lenType": 16,
    "lenVar": 40
   },
   "kernels_config": {
    "python": {
     "delete_cmd_postfix": "",
     "delete_cmd_prefix": "del ",
     "library": "var_list.py",
     "varRefreshCmd": "print(var_dic_list())"
    },
    "r": {
     "delete_cmd_postfix": ") ",
     "delete_cmd_prefix": "rm(",
     "library": "var_list.r",
     "varRefreshCmd": "cat(var_dic_list()) "
    }
   },
   "types_to_exclude": [
    "module",
    "function",
    "builtin_function_or_method",
    "instance",
    "_Feature"
   ],
   "window_display": false
  }
 },
 "nbformat": 4,
 "nbformat_minor": 2
}
